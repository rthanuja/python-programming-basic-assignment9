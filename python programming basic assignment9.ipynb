{
 "cells": [
  {
   "cell_type": "code",
   "execution_count": 1,
   "id": "4a67d16d",
   "metadata": {},
   "outputs": [
    {
     "name": "stdout",
     "output_type": "stream",
     "text": [
      "enter the number 89\n",
      "89 is a disarium number\n"
     ]
    }
   ],
   "source": [
    "#1. Write a Python program to check if the given number is a Disarium Number?\n",
    "n=int(input(\"enter the number \"))\n",
    "s=0\n",
    "l=1\n",
    "for i in str(n):\n",
    "    s+=int(i)**l\n",
    "    l+=1\n",
    "if s==n:\n",
    "    print(\"{} is a disarium number\".format(n))"
   ]
  },
  {
   "cell_type": "code",
   "execution_count": 2,
   "id": "6dcbc709",
   "metadata": {},
   "outputs": [
    {
     "name": "stdout",
     "output_type": "stream",
     "text": [
      "1 2 3 4 5 6 7 8 9 89 "
     ]
    }
   ],
   "source": [
    "#2. Write a Python program to print all disarium numbers between 1 to 100?\n",
    "for i in range(1,101):\n",
    "    s=0\n",
    "    l=1\n",
    "    for j in str(i):\n",
    "        s+=int(j)**l\n",
    "        l+=1\n",
    "    if s==i:\n",
    "        print(i,end=\" \")"
   ]
  },
  {
   "cell_type": "code",
   "execution_count": 3,
   "id": "6d3e1fe7",
   "metadata": {},
   "outputs": [
    {
     "name": "stdout",
     "output_type": "stream",
     "text": [
      "enter the number :\n",
      "56\n",
      "56 is not a happy number\n"
     ]
    }
   ],
   "source": [
    "#3. Write a Python program to check if the given number is Happy Number?\n",
    "def sumsquare(n):\n",
    "    s=0\n",
    "    for i in str(n):\n",
    "        s+=int(i)**2\n",
    "    return s\n",
    "s=int(input(\"enter the number :\\n\"))\n",
    "l=s\n",
    "while True:\n",
    "    n=sumsquare(s)\n",
    "    if n==1:\n",
    "        print(\"{} is a happy number\".format(l))\n",
    "        break\n",
    "    elif n==4:\n",
    "        print(\"{} is not a happy number\".format(l))\n",
    "        break\n",
    "    s=n"
   ]
  },
  {
   "cell_type": "code",
   "execution_count": 4,
   "id": "a153a5a6",
   "metadata": {},
   "outputs": [
    {
     "name": "stdout",
     "output_type": "stream",
     "text": [
      "1 7 10 13 19 23 28 31 32 44 49 68 70 79 82 86 91 94 97 100 "
     ]
    }
   ],
   "source": [
    "#4. Write a Python program to print all happy numbers between 1 and 100?\n",
    "def sumsquare(n):\n",
    "    s=0\n",
    "    for i in str(n):\n",
    "        s+=int(i)**2\n",
    "    return s\n",
    "for i in range(1,101):\n",
    "    l=i\n",
    "    while True:\n",
    "        n=sumsquare(i)\n",
    "        if n==1:\n",
    "            print(l,end=\" \")\n",
    "            break\n",
    "        elif n==4:\n",
    "            break\n",
    "        else:\n",
    "            i=n       \n"
   ]
  },
  {
   "cell_type": "code",
   "execution_count": 5,
   "id": "979e1bf1",
   "metadata": {},
   "outputs": [
    {
     "name": "stdout",
     "output_type": "stream",
     "text": [
      "enter the number:\n",
      "156\n",
      "156 is a harshad number\n"
     ]
    }
   ],
   "source": [
    "#5. Write a Python program to determine whether the given number is a Harshad Number?\n",
    "n=int(input(\"enter the number:\\n\"))\n",
    "s=0\n",
    "for i in str(n):\n",
    "    s+=int(i)\n",
    "if n%s==0:\n",
    "    print(\"{} is a harshad number\".format(n))\n",
    "else:\n",
    "    print(\"{} is not a harshad number\".format(n))\n",
    "    \n"
   ]
  },
  {
   "cell_type": "code",
   "execution_count": 6,
   "id": "c71c82c6",
   "metadata": {},
   "outputs": [
    {
     "name": "stdout",
     "output_type": "stream",
     "text": [
      "2 6 12 20 30 42 56 72 90 "
     ]
    }
   ],
   "source": [
    "#6. Write a Python program to print all pronic numbers between 1 and 100?\n",
    "for i in range(1,101):\n",
    "    for j in range(1,i//2+1):\n",
    "        if i==j*(j+1):\n",
    "            print(i,end=\" \")\n",
    "        else:\n",
    "            continue\n",
    "        "
   ]
  }
 ],
 "metadata": {
  "kernelspec": {
   "display_name": "Python 3 (ipykernel)",
   "language": "python",
   "name": "python3"
  },
  "language_info": {
   "codemirror_mode": {
    "name": "ipython",
    "version": 3
   },
   "file_extension": ".py",
   "mimetype": "text/x-python",
   "name": "python",
   "nbconvert_exporter": "python",
   "pygments_lexer": "ipython3",
   "version": "3.10.9"
  }
 },
 "nbformat": 4,
 "nbformat_minor": 5
}
